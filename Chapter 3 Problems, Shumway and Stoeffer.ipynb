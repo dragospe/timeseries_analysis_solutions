{
 "cells": [
  {
   "cell_type": "markdown",
   "metadata": {},
   "source": [
    "# Shumway and Stoeffer, Chapter 3 Problems"
   ]
  },
  {
   "cell_type": "markdown",
   "metadata": {},
   "source": [
    "## Problem 3.1\n",
    "\n",
    "For an MA(1), $x_t = w_t+\\theta w_{t-1}$, show that $|\\rho_x(1)| \\leq 1/2$ for any number $\\theta.$ For which values of $\\theta$ does $\\rho_x(1)$ attain its maximum and minimum?\n",
    "\n",
    "-----\n",
    "\n",
    "**Solution:** \n",
    "\n",
    "*Note: For my own edification, I'm going to try to re-derive the relevant theory. This is, of course, mostly covered in the book. My original answer will be in non-italicized text; comments add after a second reading will be written in italics.*"
   ]
  },
  {
   "cell_type": "markdown",
   "metadata": {},
   "source": [
    "If $x_t = w_t+\\theta w_{t-1}$, then $E[x]=0$ since the white noise has mean 0 (the usual comments about subsituting with $x-\\mu$ apply).\n",
    "\n",
    "Thus, the autocovariance is given as\n",
    "\n",
    "$$\\gamma(h)=E[x_{t+h}x_t]=((w_{t+h}+\\theta w_{t+h-1})(w_t+\\theta w_{t-1})).$$\n",
    "\n",
    "When $h=1$, this gives\n",
    "\n",
    "$$\\begin{align*}\n",
    "\\gamma(1)&=w_{t+1}w_t + \\theta w_{t+1-1}w_{t} + \\theta w_{t+1}w_{t-1}+\\theta^2w_{t+1-1}w_{t-1}\\\\\n",
    "&=\\theta\\sigma^2.\n",
    "\\end{align*}$$\n",
    "\n",
    "We have $\\rho(1)=\\gamma(1)/\\gamma(0).$\n",
    "\n",
    "$\\gamma(0)$ is given as:\n",
    "\n",
    "$$\\gamma(0)=w_tw_t+\\theta w_{t-1}w_t + \\theta w_{t}w_{t-1} + \\theta^2 w_{t-1} = \\sigma^2+\\theta^2\\sigma^2=\\sigma^2(1+\\theta^2).$$\n",
    "\n",
    "Hence: \n",
    "\n",
    "$$\\rho(1) = \\frac{\\theta}{1+\\theta^2}.$$\n",
    "\n",
    "\n"
   ]
  },
  {
   "cell_type": "markdown",
   "metadata": {},
   "source": [
    "But\n",
    "\n",
    "$$|\\rho(1)| = |\\frac{\\theta}{1+\\theta^2}| \\leq \\frac{1}{2}$$\n",
    "\n",
    "is equivalent to\n",
    "\n",
    "$$\\frac{-1}{2} \\leq \\frac{\\theta}{1+\\theta^2} \\leq \\frac{1}{2}$$\n",
    "\n",
    "is equivalent to \n",
    "\n",
    "$$-1-2\\theta-\\theta^2 \\leq 0 \\leq 1-2\\theta+\\theta^2$$\n",
    "\n",
    "is equivalent to\n",
    "\n",
    "$$-(1+\\theta)^2 \\leq 0 \\leq (1-\\theta)^2$$\n",
    "\n",
    "which is certainly true. \n",
    "\n",
    "To find the maximum and minimum of $\\rho(1)$, we turn to calculus. We have\n",
    "\n",
    "$$\\begin{align*}\n",
    "\\rho'(1) &= \\frac{(1+\\theta^2)-2\\theta^2}{(1+\\theta^2)^2}\\\n",
    "&=\\frac{1-\\theta^2}{(1+\\theta^2)^2}\n",
    "\\end{align*}$$\n",
    "\n",
    "Which has roots at $\\pm 1.$$\n",
    "\n"
   ]
  },
  {
   "cell_type": "markdown",
   "metadata": {},
   "source": [
    "Hence, the minimum of $-1/2$ is achieved at $\\theta = -1$ and the maximum is achieved at $\\theta = 1.$"
   ]
  },
  {
   "cell_type": "markdown",
   "metadata": {},
   "source": [
    "# Problem 3.2\n",
    "\n",
    "Let $\\{w_t;t=0,1,\\ldots\\}$ be a white noise process with variance $\\sigma_w^2$ and let $|\\phi| < 1$ be a constant. Consider the process $x_0 = w_0$, and $$x_t = \\phi x_{t-1}+w_t, \\quad t=1,2,\\ldots$$ \n",
    "\n",
    "We might use this method to simulate and AR(1) process from simulated white noise.\n",
    "\n",
    "### 3.2(a): Show that $x_t = \\sum_{j=0}^t \\phi^jw_{t-j}$ for any $t=0,1,\\ldots.$\n",
    "\n",
    "-----\n",
    "\n",
    "**Solution:**"
   ]
  },
  {
   "cell_type": "markdown",
   "metadata": {},
   "source": [
    "We proceed via induction. The base case holds from the definition of $x_t$. If the case holds for $x_k$, then we have:\n",
    "\n",
    "$$\\begin{align*}\n",
    "x_{k+1} &= \\phi x_{k} + w_{k+1}\\\\\n",
    "&= \\phi\\sum_{j=0}^k \\phi^jw_{k-j}+w_{k+1}\\\\\n",
    "&= \\sum_{j=0}^{k}\\phi^{j+1}w_{k-j}+w_{k+1}\\\\\n",
    "&= \\sum_{j=1}^{k+1}\\phi^{j}w_{k+1-j}+\\phi^{0}w_{k+1}\\\\\n",
    "&= \\sum_{j=0}^{k+1}\\phi^{j}w_{k+1-j}\n",
    "\\end{align*}\n",
    "$$\n",
    "\n",
    "and we are done.\n",
    "\n",
    "----\n",
    "\n",
    "### 3.2(b): Find $E(x_t)$.\n",
    "\n",
    "**Solution:**\n",
    "\n",
    "All of the white noise terms are uncorrelated. Hence, the expectation is 0.\n",
    "\n",
    "----\n",
    "\n",
    "### 3.2(c): Show that for $t=0,1,\\ldots,$\n",
    "\n",
    "$$var(x_t) = \\frac{\\sigma^2_w}{1-\\sigma^2}(1-\\sigma^{2(t+1)}).$$\n",
    "\n",
    "**Solution:**\n",
    "\n",
    "We will show by induction. For $t=0$ we have\n",
    "\n",
    "$$\\begin{align*}\n",
    "var(x_0)&=E(x_0^2)\\\\\n",
    "&=E(w_o^2)\\\\\n",
    "&=\\sigma_w^2\\\\\n",
    "&= \\frac{\\sigma^2}{1-\\phi^2}(1-\\phi^{2(t+1)})\n",
    "\\end{align*}$$"
   ]
  },
  {
   "cell_type": "markdown",
   "metadata": {},
   "source": [
    "If we assume that the formula holds for $t=k$, we have\n",
    "\n",
    "$$\\begin{align*}\n",
    "var(x_{k+1}) &= E(x_{k+1}^2)\\\\\n",
    "&= E((\\phi x_{k} + w_{k+1})^2)\\\\\n",
    "&= \\phi^2var(x_k)+E(2\\phi x_{k}w_{k+1}) + \\sigma_w^2\\\\\n",
    "\\end{align*}$$\n",
    "\n",
    "but $x_k$ and $w_{k+1}$ are uncorrelated (since $x_t$ is the sum of terms independent of $w_{k+1}$) so the middle term is 0.\n",
    "\n",
    "Hence\n",
    "\n",
    "$$\\begin{align*}\n",
    "var(x_{k+1}) &= \\phi^2 \\frac{\\sigma_w^2}{1-\\phi^2}(1-\\phi^{2(k+1)})+\\sigma_w^2\\\\\n",
    "&=\\sigma_w^2\\left(\\frac{\\phi^2}{1-\\phi^2}(1-\\phi^{2(k+1)})+\\frac{1-\\phi^2}{1-\\phi^2}\\right)\\\\\n",
    "&=\\sigma_w^2\\left(\\frac{\\phi^2(1-\\phi^{2(k+1)})+1-\\phi^2}{1-\\phi^2}\\right)\\\\\n",
    "&=\\sigma_w^2\\left(\\frac{1-\\phi^{2(k+1)+2}}{1-\\phi^2}\\right)\\\\\n",
    "&=\\sigma_w^2\\left(\\frac{1-\\phi^{2((k+1)+1)}}{1-\\phi^2}\\right)\\\\\n",
    "\\end{align*}$$"
   ]
  },
  {
   "cell_type": "markdown",
   "metadata": {},
   "source": [
    "and the result follows."
   ]
  }
 ],
 "metadata": {
  "kernelspec": {
   "display_name": "R",
   "language": "R",
   "name": "ir"
  },
  "language_info": {
   "codemirror_mode": "r",
   "file_extension": ".r",
   "mimetype": "text/x-r-source",
   "name": "R",
   "pygments_lexer": "r",
   "version": "3.6.1"
  }
 },
 "nbformat": 4,
 "nbformat_minor": 2
}
